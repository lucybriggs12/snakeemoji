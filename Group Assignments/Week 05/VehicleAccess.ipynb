{
 "cells": [
  {
   "cell_type": "markdown",
   "id": "1b1c9b35-d9cc-47df-b431-b2466cce98c8",
   "metadata": {},
   "source": [
    "# Senior Transit Access to Grocery Stores "
   ]
  },
  {
   "cell_type": "markdown",
   "id": "831a9713-f12c-4bb1-8e05-bba9bb821ea0",
   "metadata": {},
   "source": [
    "#### Research Question: Where do gaps in transit access to grocery stores exist for residents ages 65+ in the city of Los Angeles?\n"
   ]
  },
  {
   "cell_type": "markdown",
   "id": "2c8c8cec-7619-48b3-925f-a6433f60097d",
   "metadata": {},
   "source": [
    "This notebook explores vehicle ownership and access for seniors. We want to explore how many seniors drive compared to the general population in Los Angeles. This will further help demonstrate a need for public transit access for seniors. "
   ]
  },
  {
   "cell_type": "code",
   "execution_count": 1,
   "id": "c95650d4-dea8-43ca-b9da-a6581e5ffffd",
   "metadata": {},
   "outputs": [],
   "source": [
    "#first we import pandas \n",
    "import pandas as pd\n",
    "import geopandas as gpd"
   ]
  },
  {
   "cell_type": "markdown",
   "id": "7cfe592e-bb94-4044-8bf8-56b79719ed33",
   "metadata": {},
   "source": [
    "Use Census API to pull in the columns that we need for LA City."
   ]
  },
  {
   "cell_type": "code",
   "execution_count": 2,
   "id": "6e3e4614-f10b-4e1f-b933-3410817e18eb",
   "metadata": {},
   "outputs": [],
   "source": [
    "import requests\n",
    "apirequest = 'https://api.census.gov/data/2021/acs/acs5?get=NAME,B25045_003E,B25045_006E,B25045_007E,B25045_010E,B25045_012E,B25045_015E,B25045_016E,B25045_019E&for=place:44000&in=state:06'\n",
    "usr_key = f\"&key=4c422219a890d0597a042d9ebad9311b022cfd4d\"\n",
    "#Put it all together in one f-string:\n",
    "query_url = f\"{apirequest}{usr_key}\"\n",
    "# Use requests package to call out to the API\n",
    "response = requests.get(query_url)"
   ]
  },
  {
   "cell_type": "markdown",
   "id": "e42d5d45-1b02-487c-b0ce-403d42303145",
   "metadata": {},
   "source": [
    "Now, I convert these results to a dataframe that I can work with in Python."
   ]
  },
  {
   "cell_type": "code",
   "execution_count": 3,
   "id": "c6ecf5ff-88a5-4296-907c-91bc4af27050",
   "metadata": {},
   "outputs": [
    {
     "data": {
      "text/html": [
       "<div>\n",
       "<style scoped>\n",
       "    .dataframe tbody tr th:only-of-type {\n",
       "        vertical-align: middle;\n",
       "    }\n",
       "\n",
       "    .dataframe tbody tr th {\n",
       "        vertical-align: top;\n",
       "    }\n",
       "\n",
       "    .dataframe thead th {\n",
       "        text-align: right;\n",
       "    }\n",
       "</style>\n",
       "<table border=\"1\" class=\"dataframe\">\n",
       "  <thead>\n",
       "    <tr style=\"text-align: right;\">\n",
       "      <th></th>\n",
       "      <th>0</th>\n",
       "      <th>1</th>\n",
       "      <th>2</th>\n",
       "      <th>3</th>\n",
       "      <th>4</th>\n",
       "      <th>5</th>\n",
       "      <th>6</th>\n",
       "      <th>7</th>\n",
       "      <th>8</th>\n",
       "      <th>9</th>\n",
       "      <th>10</th>\n",
       "    </tr>\n",
       "  </thead>\n",
       "  <tbody>\n",
       "    <tr>\n",
       "      <th>0</th>\n",
       "      <td>NAME</td>\n",
       "      <td>B25045_003E</td>\n",
       "      <td>B25045_006E</td>\n",
       "      <td>B25045_007E</td>\n",
       "      <td>B25045_010E</td>\n",
       "      <td>B25045_012E</td>\n",
       "      <td>B25045_015E</td>\n",
       "      <td>B25045_016E</td>\n",
       "      <td>B25045_019E</td>\n",
       "      <td>state</td>\n",
       "      <td>place</td>\n",
       "    </tr>\n",
       "    <tr>\n",
       "      <th>1</th>\n",
       "      <td>Los Angeles city, California</td>\n",
       "      <td>17341</td>\n",
       "      <td>10951</td>\n",
       "      <td>493319</td>\n",
       "      <td>151011</td>\n",
       "      <td>144350</td>\n",
       "      <td>47232</td>\n",
       "      <td>729841</td>\n",
       "      <td>77809</td>\n",
       "      <td>06</td>\n",
       "      <td>44000</td>\n",
       "    </tr>\n",
       "  </tbody>\n",
       "</table>\n",
       "</div>"
      ],
      "text/plain": [
       "                             0            1            2            3   \\\n",
       "0                          NAME  B25045_003E  B25045_006E  B25045_007E   \n",
       "1  Los Angeles city, California        17341        10951       493319   \n",
       "\n",
       "            4            5            6            7            8      9   \\\n",
       "0  B25045_010E  B25045_012E  B25045_015E  B25045_016E  B25045_019E  state   \n",
       "1       151011       144350        47232       729841        77809     06   \n",
       "\n",
       "      10  \n",
       "0  place  \n",
       "1  44000  "
      ]
     },
     "execution_count": 3,
     "metadata": {},
     "output_type": "execute_result"
    }
   ],
   "source": [
    "# First we have to convert the text to a json.\n",
    "censusdata=response.json()\n",
    "\n",
    "# Then we have to convert this to a dataframe we can work with.\n",
    "census_df=pd.DataFrame(censusdata)\n",
    "\n",
    "census_df.head()"
   ]
  },
  {
   "cell_type": "markdown",
   "id": "09d95d5e-a3e3-491d-ace7-ea2a539e1100",
   "metadata": {},
   "source": [
    "The variable names are in a row, so I have to create column names that copy row 0."
   ]
  },
  {
   "cell_type": "code",
   "execution_count": 4,
   "id": "f0cde264-cef9-4e7a-8b27-c61cc5960925",
   "metadata": {},
   "outputs": [
    {
     "data": {
      "text/html": [
       "<div>\n",
       "<style scoped>\n",
       "    .dataframe tbody tr th:only-of-type {\n",
       "        vertical-align: middle;\n",
       "    }\n",
       "\n",
       "    .dataframe tbody tr th {\n",
       "        vertical-align: top;\n",
       "    }\n",
       "\n",
       "    .dataframe thead th {\n",
       "        text-align: right;\n",
       "    }\n",
       "</style>\n",
       "<table border=\"1\" class=\"dataframe\">\n",
       "  <thead>\n",
       "    <tr style=\"text-align: right;\">\n",
       "      <th></th>\n",
       "      <th>NAME</th>\n",
       "      <th>B25045_003E</th>\n",
       "      <th>B25045_006E</th>\n",
       "      <th>B25045_007E</th>\n",
       "      <th>B25045_010E</th>\n",
       "      <th>B25045_012E</th>\n",
       "      <th>B25045_015E</th>\n",
       "      <th>B25045_016E</th>\n",
       "      <th>B25045_019E</th>\n",
       "      <th>state</th>\n",
       "      <th>place</th>\n",
       "    </tr>\n",
       "  </thead>\n",
       "  <tbody>\n",
       "    <tr>\n",
       "      <th>0</th>\n",
       "      <td>NAME</td>\n",
       "      <td>B25045_003E</td>\n",
       "      <td>B25045_006E</td>\n",
       "      <td>B25045_007E</td>\n",
       "      <td>B25045_010E</td>\n",
       "      <td>B25045_012E</td>\n",
       "      <td>B25045_015E</td>\n",
       "      <td>B25045_016E</td>\n",
       "      <td>B25045_019E</td>\n",
       "      <td>state</td>\n",
       "      <td>place</td>\n",
       "    </tr>\n",
       "    <tr>\n",
       "      <th>1</th>\n",
       "      <td>Los Angeles city, California</td>\n",
       "      <td>17341</td>\n",
       "      <td>10951</td>\n",
       "      <td>493319</td>\n",
       "      <td>151011</td>\n",
       "      <td>144350</td>\n",
       "      <td>47232</td>\n",
       "      <td>729841</td>\n",
       "      <td>77809</td>\n",
       "      <td>06</td>\n",
       "      <td>44000</td>\n",
       "    </tr>\n",
       "  </tbody>\n",
       "</table>\n",
       "</div>"
      ],
      "text/plain": [
       "0                          NAME  B25045_003E  B25045_006E  B25045_007E  \\\n",
       "0                          NAME  B25045_003E  B25045_006E  B25045_007E   \n",
       "1  Los Angeles city, California        17341        10951       493319   \n",
       "\n",
       "0  B25045_010E  B25045_012E  B25045_015E  B25045_016E  B25045_019E  state  \\\n",
       "0  B25045_010E  B25045_012E  B25045_015E  B25045_016E  B25045_019E  state   \n",
       "1       151011       144350        47232       729841        77809     06   \n",
       "\n",
       "0  place  \n",
       "0  place  \n",
       "1  44000  "
      ]
     },
     "execution_count": 4,
     "metadata": {},
     "output_type": "execute_result"
    }
   ],
   "source": [
    "census_df.columns = census_df.iloc[0]\n",
    "census_df"
   ]
  },
  {
   "cell_type": "markdown",
   "id": "7ea602bb-c239-4ddf-9292-de85fcfb7032",
   "metadata": {},
   "source": [
    "Now we will rename our columns."
   ]
  },
  {
   "cell_type": "code",
   "execution_count": 5,
   "id": "989e71ee-6b18-4b26-bcf9-53244cfc90b0",
   "metadata": {},
   "outputs": [
    {
     "data": {
      "text/html": [
       "<div>\n",
       "<style scoped>\n",
       "    .dataframe tbody tr th:only-of-type {\n",
       "        vertical-align: middle;\n",
       "    }\n",
       "\n",
       "    .dataframe tbody tr th {\n",
       "        vertical-align: top;\n",
       "    }\n",
       "\n",
       "    .dataframe thead th {\n",
       "        text-align: right;\n",
       "    }\n",
       "</style>\n",
       "<table border=\"1\" class=\"dataframe\">\n",
       "  <thead>\n",
       "    <tr style=\"text-align: right;\">\n",
       "      <th></th>\n",
       "      <th>NAME</th>\n",
       "      <th>Owner no vehicle</th>\n",
       "      <th>Owner no vehicle 65+</th>\n",
       "      <th>Owner with vehicle</th>\n",
       "      <th>Owner with vehicle 65+</th>\n",
       "      <th>Renter no vehicle</th>\n",
       "      <th>Renter no vehicle 65+</th>\n",
       "      <th>Renter with vehicle</th>\n",
       "      <th>Renter with vehicle 65+</th>\n",
       "      <th>state</th>\n",
       "      <th>place</th>\n",
       "    </tr>\n",
       "  </thead>\n",
       "  <tbody>\n",
       "    <tr>\n",
       "      <th>0</th>\n",
       "      <td>NAME</td>\n",
       "      <td>B25045_003E</td>\n",
       "      <td>B25045_006E</td>\n",
       "      <td>B25045_007E</td>\n",
       "      <td>B25045_010E</td>\n",
       "      <td>B25045_012E</td>\n",
       "      <td>B25045_015E</td>\n",
       "      <td>B25045_016E</td>\n",
       "      <td>B25045_019E</td>\n",
       "      <td>state</td>\n",
       "      <td>place</td>\n",
       "    </tr>\n",
       "    <tr>\n",
       "      <th>1</th>\n",
       "      <td>Los Angeles city, California</td>\n",
       "      <td>17341</td>\n",
       "      <td>10951</td>\n",
       "      <td>493319</td>\n",
       "      <td>151011</td>\n",
       "      <td>144350</td>\n",
       "      <td>47232</td>\n",
       "      <td>729841</td>\n",
       "      <td>77809</td>\n",
       "      <td>06</td>\n",
       "      <td>44000</td>\n",
       "    </tr>\n",
       "  </tbody>\n",
       "</table>\n",
       "</div>"
      ],
      "text/plain": [
       "0                          NAME Owner no vehicle Owner no vehicle 65+  \\\n",
       "0                          NAME      B25045_003E          B25045_006E   \n",
       "1  Los Angeles city, California            17341                10951   \n",
       "\n",
       "0 Owner with vehicle Owner with vehicle 65+ Renter no vehicle  \\\n",
       "0        B25045_007E            B25045_010E       B25045_012E   \n",
       "1             493319                 151011            144350   \n",
       "\n",
       "0 Renter no vehicle 65+ Renter with vehicle Renter with vehicle 65+  state  \\\n",
       "0           B25045_015E         B25045_016E             B25045_019E  state   \n",
       "1                 47232              729841                   77809     06   \n",
       "\n",
       "0  place  \n",
       "0  place  \n",
       "1  44000  "
      ]
     },
     "execution_count": 5,
     "metadata": {},
     "output_type": "execute_result"
    }
   ],
   "source": [
    "census_df=census_df.rename(columns={'B25045_003E':'Owner no vehicle', 'B25045_006E':'Owner no vehicle 65+',\n",
    "                         'B25045_007E':'Owner with vehicle', 'B25045_010E' : 'Owner with vehicle 65+',\n",
    "                         'B25045_012E' : 'Renter no vehicle', 'B25045_015E' : 'Renter no vehicle 65+',\n",
    "                         'B25045_016E' : 'Renter with vehicle', 'B25045_019E' : 'Renter with vehicle 65+'},)\n",
    "census_df.head(5)"
   ]
  },
  {
   "cell_type": "markdown",
   "id": "9b3dd6cc-192f-4e3e-8579-0c558a761df7",
   "metadata": {},
   "source": [
    "Now, I want to drop row 0 (which contains the column names)"
   ]
  },
  {
   "cell_type": "code",
   "execution_count": 6,
   "id": "82413040-a5c5-4035-adec-fb60ffb50852",
   "metadata": {},
   "outputs": [],
   "source": [
    "# Drop row 0 by creating a new dataframe with columns 1:\n",
    "census_clean = census_df.iloc[1:]"
   ]
  },
  {
   "cell_type": "markdown",
   "id": "cf0fb97f-1862-4464-9809-2e18d92c35b9",
   "metadata": {},
   "source": [
    "Now I must cast all of the columns (other than the geography names) as integers so that I can use them in calculations."
   ]
  },
  {
   "cell_type": "code",
   "execution_count": 7,
   "id": "7e89ba03-83c3-403b-95de-e29d7e021368",
   "metadata": {},
   "outputs": [],
   "source": [
    "census_clean=census_clean.astype({'Owner no vehicle':'int', 'Owner no vehicle 65+':'int', 'Owner with vehicle':'int', 'Owner with vehicle 65+': 'int', \n",
    "                                  'Renter no vehicle':'int', 'Renter no vehicle 65+' : 'int', 'Renter with vehicle' : 'int' , 'Renter with vehicle 65+' : 'int'})"
   ]
  },
  {
   "cell_type": "code",
   "execution_count": 8,
   "id": "8696aa49-ed64-471c-b422-a6f106531028",
   "metadata": {},
   "outputs": [
    {
     "name": "stdout",
     "output_type": "stream",
     "text": [
      "<class 'pandas.core.frame.DataFrame'>\n",
      "RangeIndex: 1 entries, 1 to 1\n",
      "Data columns (total 11 columns):\n",
      " #   Column                   Non-Null Count  Dtype \n",
      "---  ------                   --------------  ----- \n",
      " 0   NAME                     1 non-null      object\n",
      " 1   Owner no vehicle         1 non-null      int64 \n",
      " 2   Owner no vehicle 65+     1 non-null      int64 \n",
      " 3   Owner with vehicle       1 non-null      int64 \n",
      " 4   Owner with vehicle 65+   1 non-null      int64 \n",
      " 5   Renter no vehicle        1 non-null      int64 \n",
      " 6   Renter no vehicle 65+    1 non-null      int64 \n",
      " 7   Renter with vehicle      1 non-null      int64 \n",
      " 8   Renter with vehicle 65+  1 non-null      int64 \n",
      " 9   state                    1 non-null      object\n",
      " 10  place                    1 non-null      object\n",
      "dtypes: int64(8), object(3)\n",
      "memory usage: 220.0+ bytes\n"
     ]
    }
   ],
   "source": [
    "# Check that this worked.\n",
    "census_clean.info()"
   ]
  },
  {
   "cell_type": "markdown",
   "id": "a25772fb-8160-4beb-a94e-5e83f79770a5",
   "metadata": {},
   "source": [
    "Now we create a new dataframe with calculated percentages."
   ]
  },
  {
   "cell_type": "code",
   "execution_count": 9,
   "id": "6e21b2b3-4369-4aa0-bce1-f70e1a5ffe7a",
   "metadata": {},
   "outputs": [],
   "source": [
    "# Calculate necesarry totals.\n",
    "census_clean['Total HH']=census_clean['Owner no vehicle']+census_clean['Owner with vehicle']+census_clean['Renter no vehicle']+census_clean['Renter with vehicle']\n",
    "census_clean['Senior HH']=census_clean['Owner no vehicle 65+']+census_clean['Owner with vehicle 65+']+census_clean['Renter no vehicle 65+']+census_clean['Renter with vehicle 65+']\n",
    "census_clean['Total No Vehicle']=census_clean['Owner no vehicle']+census_clean['Renter no vehicle']\n",
    "census_clean['Senior No Vehicle']=census_clean['Owner no vehicle 65+']+census_clean['Renter no vehicle 65+']"
   ]
  },
  {
   "cell_type": "code",
   "execution_count": 10,
   "id": "e8816fee-0089-4087-9566-bab725cb3455",
   "metadata": {},
   "outputs": [],
   "source": [
    "# Calculate rounded, plot-friendly percentages.\n",
    "census_clean['Pct Households Without a Vehicle'] = round(census_clean['Total No Vehicle']/census_clean['Total HH']*100)\n",
    "census_clean['Pct Senior-Headed Households Without a Vehicle']= round(census_clean['Senior No Vehicle']/census_clean['Senior HH']*100)"
   ]
  },
  {
   "cell_type": "code",
   "execution_count": 11,
   "id": "8b30e95e-d44a-4ed2-a16d-a311389698a6",
   "metadata": {},
   "outputs": [
    {
     "data": {
      "text/html": [
       "<div>\n",
       "<style scoped>\n",
       "    .dataframe tbody tr th:only-of-type {\n",
       "        vertical-align: middle;\n",
       "    }\n",
       "\n",
       "    .dataframe tbody tr th {\n",
       "        vertical-align: top;\n",
       "    }\n",
       "\n",
       "    .dataframe thead th {\n",
       "        text-align: right;\n",
       "    }\n",
       "</style>\n",
       "<table border=\"1\" class=\"dataframe\">\n",
       "  <thead>\n",
       "    <tr style=\"text-align: right;\">\n",
       "      <th></th>\n",
       "      <th>NAME</th>\n",
       "      <th>Pct Households Without a Vehicle</th>\n",
       "      <th>Pct Senior-Headed Households Without a Vehicle</th>\n",
       "    </tr>\n",
       "  </thead>\n",
       "  <tbody>\n",
       "    <tr>\n",
       "      <th>1</th>\n",
       "      <td>Los Angeles city, California</td>\n",
       "      <td>12.0</td>\n",
       "      <td>20.0</td>\n",
       "    </tr>\n",
       "  </tbody>\n",
       "</table>\n",
       "</div>"
      ],
      "text/plain": [
       "0                          NAME  Pct Households Without a Vehicle  \\\n",
       "1  Los Angeles city, California                              12.0   \n",
       "\n",
       "0  Pct Senior-Headed Households Without a Vehicle  \n",
       "1                                            20.0  "
      ]
     },
     "execution_count": 11,
     "metadata": {},
     "output_type": "execute_result"
    }
   ],
   "source": [
    "# Create a new dataframe with just my geography names and final percentages.\n",
    "census_percentages=census_clean[['NAME','Pct Households Without a Vehicle', 'Pct Senior-Headed Households Without a Vehicle']]\n",
    "census_percentages"
   ]
  },
  {
   "cell_type": "markdown",
   "id": "f91f3cdc-2ea9-41e1-a76f-d2dc1bfa2d50",
   "metadata": {},
   "source": [
    "Now I can make my plot!"
   ]
  },
  {
   "cell_type": "code",
   "execution_count": 12,
   "id": "39b4284c-fa7f-4ac5-8f3d-51c5b9ab2322",
   "metadata": {},
   "outputs": [
    {
     "data": {
      "image/png": "[encoded data removed]",
      "text/plain": [
       "<Figure size 600x500 with 1 Axes>"
      ]
     },
     "metadata": {},
     "output_type": "display_data"
    }
   ],
   "source": [
    "import matplotlib.pyplot as plt\n",
    "\n",
    "fig, ax = plt.subplots(figsize=(6,5))\n",
    "\n",
    "#Create bar plot and label the two bars with their values.\n",
    "ax = census_percentages.plot(ax=ax, kind='bar', color=['#80cdc1','#01665e'] , legend=True)\n",
    "ax.bar_label(ax.containers[0], label_type='edge')\n",
    "ax.bar_label(ax.containers[1], label_type='edge')\n",
    "\n",
    "# Adjust x-axis so it doesn't have a subtitle or ticks.\n",
    "plt.xlabel(None)\n",
    "ax.set_xticks([])\n",
    "\n",
    "# Ajust y-axis so that it has desired subtitle and ticks.\n",
    "plt.ylabel(\"Percent Without Vehicle\")\n",
    "ax.set_yticks((0,5,10,15,20,25))\n",
    "\n",
    "#Adjust table and legend.\n",
    "plt.title(\"Households Without Vehicle Access in Los Angeles\")\n",
    "plt.legend(loc='center left', bbox_to_anchor=(1, .85), title='Population')\n",
    "\n",
    "plt.show()"
   ]
  },
  {
   "cell_type": "markdown",
   "id": "aeba20b8-f4f0-48a0-92b5-4a5fd8eb3bae",
   "metadata": {},
   "source": [
    "#### This chart demonstrates that seniors are much less likely to have access to a vehicle, making public transit access vital to their daily lives. We will explore grocery store and transit access further in our other notebooks. "
   ]
  },
  {
   "cell_type": "markdown",
   "id": "c4367b69-2517-4987-b4bb-24207a635d1a",
   "metadata": {},
   "source": [
    "### Group Name: Snake Emoji \n",
    "### Group members: Monisha Reginald, Carolyn Pugh, Lucy Briggs, Adriana Ochoa \n",
    "\n",
    "#### Division of labor:"
   ]
  },
  {
   "cell_type": "markdown",
   "id": "2c494ebc-511e-4f01-8887-3b8cf89f7cfb",
   "metadata": {},
   "source": [
    "Monisha: Access to grocery stores (grocery store buffer map, grocery store interactive map, sennior access to grocery stores chart) "
   ]
  },
  {
   "cell_type": "markdown",
   "id": "a8fdbf79-b1d0-43a9-9d6b-760ea7c2656e",
   "metadata": {},
   "source": [
    "Carolyn: Metro stops map, Seniors and transit stops map"
   ]
  },
  {
   "cell_type": "markdown",
   "id": "1655db12-b305-4714-9a21-99b1f21a646a",
   "metadata": {},
   "source": [
    "Lucy: LA senior density maps, LA senior density charts "
   ]
  },
  {
   "cell_type": "markdown",
   "id": "a52b177d-5e29-4d34-ac93-b1d1002a89a1",
   "metadata": {},
   "source": [
    "Adriana: vehicle access (however I had to rely heavily on Monisha's help and all credit is due to her), and midterm slideshow"
   ]
  },
  {
   "cell_type": "code",
   "execution_count": null,
   "id": "921c7372-97a3-4443-bbbc-805da585fa59",
   "metadata": {},
   "outputs": [],
   "source": []
  }
 ],
 "metadata": {
  "kernelspec": {
   "display_name": "Python 3 (ipykernel)",
   "language": "python",
   "name": "python3"
  },
  "language_info": {
   "codemirror_mode": {
    "name": "ipython",
    "version": 3
   },
   "file_extension": ".py",
   "mimetype": "text/x-python",
   "name": "python",
   "nbconvert_exporter": "python",
   "pygments_lexer": "ipython3",
   "version": "3.10.8"
  }
 },
 "nbformat": 4,
 "nbformat_minor": 5
}
