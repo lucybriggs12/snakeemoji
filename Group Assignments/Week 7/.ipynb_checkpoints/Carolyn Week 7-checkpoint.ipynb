{
 "cells": [
  {
   "cell_type": "markdown",
   "id": "b1e0484d-106d-4dd7-9752-7d08c31e2b1c",
   "metadata": {},
   "source": [
    "## Week 7 Draft Assignment: Developing/cleaning content for the collaboration notebook\n",
    "\n",
    "\n",
    "#### In this notebook I will make some isochrone maps looking at distance by walk time from transit stops to the census block centroids.  I will also begin working on some maps/charts identifying neighborhoods with the lowest density of tranit.\n",
    "\n",
    "##### Carolyn Pugh"
   ]
  },
  {
   "cell_type": "markdown",
   "id": "b4ad1f80-444c-4ee9-9d21-7c68c9b69da1",
   "metadata": {},
   "source": [
    "### Getting Started: Import Libraries"
   ]
  },
  {
   "cell_type": "code",
   "execution_count": 2,
   "id": "aa6bf2a7-a4f6-409d-b916-389cc01bb9bc",
   "metadata": {},
   "outputs": [],
   "source": [
    "# for spatial data\n",
    "import geopandas as gpd\n",
    "import pandas as pd\n",
    "\n",
    "# for plotting\n",
    "import matplotlib.pyplot as plt\n",
    "\n",
    "# for network analysis\n",
    "import networkx as nx\n",
    "\n",
    "# for street network analysis\n",
    "import osmnx as ox\n",
    "\n",
    "# for basemaps\n",
    "import contextily as ctx\n",
    "\n",
    "# for interactive webmaps\n",
    "import folium"
   ]
  },
  {
   "cell_type": "markdown",
   "id": "9957ce1f-7dee-443e-907b-067b76e671e4",
   "metadata": {},
   "source": [
    "First I will import data on neighborhood boundaries, transit stop locations, transity stop density, and senior population. The transit stop density and location files are compilations of data that I developed in my midterm notebook, and saved as a csv file for future use. "
   ]
  },
  {
   "cell_type": "code",
   "execution_count": 3,
   "id": "2ecb1c1e-abb1-474d-8636-849c5003511c",
   "metadata": {},
   "outputs": [],
   "source": [
    "#read in transit stop data and create dataframes\n",
    "transit_stops = pd.read_csv('transit_stops.csv')\n",
    "transit_density = pd.read_csv('transit_stopcount.csv')\n",
    "\n",
    "#read in LA Times Neighborhood Boundaries \n",
    "neighborhoods = gpd.read_file('LA_Times_Neighborhood_Boundaries.geojson')"
   ]
  },
  {
   "cell_type": "code",
   "execution_count": 4,
   "id": "e0c7f807-7aa6-4990-8a87-fbdeedb3a0d6",
   "metadata": {},
   "outputs": [
    {
     "data": {
      "text/html": [
       "<div>\n",
       "<style scoped>\n",
       "    .dataframe tbody tr th:only-of-type {\n",
       "        vertical-align: middle;\n",
       "    }\n",
       "\n",
       "    .dataframe tbody tr th {\n",
       "        vertical-align: top;\n",
       "    }\n",
       "\n",
       "    .dataframe thead th {\n",
       "        text-align: right;\n",
       "    }\n",
       "</style>\n",
       "<table border=\"1\" class=\"dataframe\">\n",
       "  <thead>\n",
       "    <tr style=\"text-align: right;\">\n",
       "      <th></th>\n",
       "      <th>Unnamed: 0</th>\n",
       "      <th>stopid</th>\n",
       "      <th>stopname</th>\n",
       "      <th>geometry</th>\n",
       "    </tr>\n",
       "  </thead>\n",
       "  <tbody>\n",
       "    <tr>\n",
       "      <th>0</th>\n",
       "      <td>1632</td>\n",
       "      <td>355358.0</td>\n",
       "      <td>Anaheim St &amp; Fries Ave (Eastbound)</td>\n",
       "      <td>POINT (-118.26526343800009 33.77971917500006)</td>\n",
       "    </tr>\n",
       "  </tbody>\n",
       "</table>\n",
       "</div>"
      ],
      "text/plain": [
       "   Unnamed: 0    stopid                            stopname  \\\n",
       "0        1632  355358.0  Anaheim St & Fries Ave (Eastbound)   \n",
       "\n",
       "                                        geometry  \n",
       "0  POINT (-118.26526343800009 33.77971917500006)  "
      ]
     },
     "execution_count": 4,
     "metadata": {},
     "output_type": "execute_result"
    }
   ],
   "source": [
    "transit_stops.head(1)"
   ]
  },
  {
   "cell_type": "markdown",
   "id": "3fda5b28-cf0c-4a33-b8da-f8aec8c6d620",
   "metadata": {},
   "source": [
    "### Downloading and preparing the street network using OSMnx to get walk time estimates"
   ]
  },
  {
   "cell_type": "code",
   "execution_count": 5,
   "id": "856d19c8-321a-4cc1-9d56-8fdc583d4b7b",
   "metadata": {},
   "outputs": [],
   "source": [
    "# configure the place, network type, trip times, and travel speed\n",
    "# latlon = [34.05917229622864, -118.27749316135392]\n",
    "latlon = [-118.26526343800009, 33.77971917500006]\n",
    "network_type = 'walk'\n",
    "trip_times = [5, 10, 15] #in minutes\n",
    "meters_per_minute = 60 # travel distance per minute\n",
    "#This number is based on typical walk speeds for older adults, https://www.researchgate.net/publication/344166318_Walkability_Index_for_Elderly_Health_A_Proposal"
   ]
  },
  {
   "cell_type": "code",
   "execution_count": null,
   "id": "0c1d3def-df05-41d3-add7-2667928235c2",
   "metadata": {},
   "outputs": [],
   "source": [
    "%%time\n",
    "# %%time is a magic command to see how long it takes this cell to run \n",
    "\n",
    "# download the street network\n",
    "G = ox.graph_from_point(latlon, network_type=network_type, dist = 2000)"
   ]
  },
  {
   "cell_type": "code",
   "execution_count": null,
   "id": "e1f87968-3206-4909-92c1-1ec6613a3cc4",
   "metadata": {},
   "outputs": [],
   "source": [
    "# quick plot using oxmnx\n",
    "fig, ax = ox.plot_graph(G,figsize=(12,12))"
   ]
  },
  {
   "cell_type": "code",
   "execution_count": null,
   "id": "13a92997-8612-4637-afc6-2bbe2dec9ed6",
   "metadata": {},
   "outputs": [],
   "source": []
  }
 ],
 "metadata": {
  "kernelspec": {
   "display_name": "Python 3 (ipykernel)",
   "language": "python",
   "name": "python3"
  },
  "language_info": {
   "codemirror_mode": {
    "name": "ipython",
    "version": 3
   },
   "file_extension": ".py",
   "mimetype": "text/x-python",
   "name": "python",
   "nbconvert_exporter": "python",
   "pygments_lexer": "ipython3",
   "version": "3.10.8"
  }
 },
 "nbformat": 4,
 "nbformat_minor": 5
}
